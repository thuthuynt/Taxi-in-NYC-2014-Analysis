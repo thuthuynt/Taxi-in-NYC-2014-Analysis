{
  "nbformat": 4,
  "nbformat_minor": 0,
  "metadata": {
    "colab": {
      "name": "Thuy_NYC Taxi 2014 Analysis.ipynb",
      "provenance": [],
      "collapsed_sections": [],
      "include_colab_link": true
    },
    "kernelspec": {
      "name": "python3",
      "display_name": "Python 3"
    }
  },
  "cells": [
    {
      "cell_type": "markdown",
      "metadata": {
        "id": "view-in-github",
        "colab_type": "text"
      },
      "source": [
        "<a href=\"https://colab.research.google.com/github/thuthuynt/my_report/blob/master/Thuy_NYC_Taxi_2014_Analysis.ipynb\" target=\"_parent\"><img src=\"https://colab.research.google.com/assets/colab-badge.svg\" alt=\"Open In Colab\"/></a>"
      ]
    },
    {
      "cell_type": "code",
      "metadata": {
        "id": "k-Suj_lZrkop",
        "colab_type": "code",
        "colab": {}
      },
      "source": [
        "\n",
        "# Colab library to upload files to notebook\n",
        "from google.colab import files\n",
        "\n",
        "# Install Kaggle library\n",
        "!pip install -q kaggle"
      ],
      "execution_count": 0,
      "outputs": []
    },
    {
      "cell_type": "code",
      "metadata": {
        "id": "bfmFof-ir8_7",
        "colab_type": "code",
        "outputId": "807824e6-d786-4e31-b2d1-9b83db5a942b",
        "colab": {
          "resources": {
            "http://localhost:8080/nbextensions/google.colab/files.js": {
              "data": "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",
              "ok": true,
              "headers": [
                [
                  "content-type",
                  "application/javascript"
                ]
              ],
              "status": 200,
              "status_text": ""
            }
          },
          "base_uri": "https://localhost:8080/",
          "height": 74
        }
      },
      "source": [
        "#Upload file kaggle.json (API credential) to use kaggel API\n",
        "uploaded = files.upload()\n"
      ],
      "execution_count": 0,
      "outputs": [
        {
          "output_type": "display_data",
          "data": {
            "text/html": [
              "\n",
              "     <input type=\"file\" id=\"files-e3cbef95-0200-4089-9f55-1b4428661d2a\" name=\"files[]\" multiple disabled />\n",
              "     <output id=\"result-e3cbef95-0200-4089-9f55-1b4428661d2a\">\n",
              "      Upload widget is only available when the cell has been executed in the\n",
              "      current browser session. Please rerun this cell to enable.\n",
              "      </output>\n",
              "      <script src=\"/nbextensions/google.colab/files.js\"></script> "
            ],
            "text/plain": [
              "<IPython.core.display.HTML object>"
            ]
          },
          "metadata": {
            "tags": []
          }
        },
        {
          "output_type": "stream",
          "text": [
            "Saving kaggle.json to kaggle.json\n"
          ],
          "name": "stdout"
        }
      ]
    },
    {
      "cell_type": "code",
      "metadata": {
        "id": "lrnn16pkstrc",
        "colab_type": "code",
        "outputId": "65ef1327-a694-45bc-cb04-35efee64671a",
        "colab": {
          "base_uri": "https://localhost:8080/",
          "height": 50
        }
      },
      "source": [
        "!ls"
      ],
      "execution_count": 1,
      "outputs": [
        {
          "output_type": "stream",
          "text": [
            "2014-new-york-city-taxi-trips.zip  nyc_taxi_data_2014.csv     sample_data\n",
            "kaggle.json\t\t\t   nyc_taxi_data_2014.csv.gz\n"
          ],
          "name": "stdout"
        }
      ]
    },
    {
      "cell_type": "code",
      "metadata": {
        "id": "ht6x8SuMsCF6",
        "colab_type": "code",
        "colab": {}
      },
      "source": [
        "!cp kaggle.json ~/.kaggle/kaggle.json"
      ],
      "execution_count": 0,
      "outputs": []
    },
    {
      "cell_type": "code",
      "metadata": {
        "id": "mY6BWBzZsGN2",
        "colab_type": "code",
        "outputId": "5b81fc1b-a1f8-4f4a-92ed-f9b988355326",
        "colab": {
          "base_uri": "https://localhost:8080/",
          "height": 84
        }
      },
      "source": [
        "!kaggle datasets download -d kentonnlp/2014-new-york-city-taxi-trips"
      ],
      "execution_count": 0,
      "outputs": [
        {
          "output_type": "stream",
          "text": [
            "Warning: Your Kaggle API key is readable by other users on this system! To fix this, you can run 'chmod 600 /root/.kaggle/kaggle.json'\n",
            "Downloading 2014-new-york-city-taxi-trips.zip to /content\n",
            " 99% 995M/0.98G [00:12<00:00, 114MB/s]\n",
            "100% 0.98G/0.98G [00:12<00:00, 86.2MB/s]\n"
          ],
          "name": "stdout"
        }
      ]
    },
    {
      "cell_type": "code",
      "metadata": {
        "id": "cw6OU0xWu0YS",
        "colab_type": "code",
        "outputId": "f58db8f1-cf13-410d-d917-d9bc557dd634",
        "colab": {
          "base_uri": "https://localhost:8080/",
          "height": 67
        }
      },
      "source": [
        "!unzip 2014-new-york-city-taxi-trips.zip"
      ],
      "execution_count": 0,
      "outputs": [
        {
          "output_type": "stream",
          "text": [
            "Archive:  2014-new-york-city-taxi-trips.zip\n",
            "  inflating: nyc_taxi_data_2014.csv  \n",
            "  inflating: nyc_taxi_data_2014.csv.gz  \n"
          ],
          "name": "stdout"
        }
      ]
    },
    {
      "cell_type": "code",
      "metadata": {
        "id": "qfFrsoEHs0NW",
        "colab_type": "code",
        "colab": {}
      },
      "source": [
        "# Import Python Libraries\n",
        "import numpy as np\n",
        "import pandas as pd\n",
        "import pandas_profiling\n",
        "\n",
        "%matplotlib inline\n",
        "import matplotlib.pyplot as plt\n",
        "import seaborn as sns\n",
        "\n",
        "import os\n",
        "import sys\n",
        "import time\n",
        "import requests\n",
        "import datetime as dt\n"
      ],
      "execution_count": 0,
      "outputs": []
    },
    {
      "cell_type": "code",
      "metadata": {
        "id": "rtW1pp9UtEBp",
        "colab_type": "code",
        "colab": {
          "base_uri": "https://localhost:8080/",
          "height": 50
        },
        "outputId": "a1082a8c-0fe4-4b1a-dc37-2ebceaac76a5"
      },
      "source": [
        "df = pd.read_csv(\"nyc_taxi_data_2014.csv\")"
      ],
      "execution_count": 2,
      "outputs": [
        {
          "output_type": "stream",
          "text": [
            "/usr/local/lib/python3.6/dist-packages/IPython/core/interactiveshell.py:2718: DtypeWarning: Columns (8) have mixed types. Specify dtype option on import or set low_memory=False.\n",
            "  interactivity=interactivity, compiler=compiler, result=result)\n"
          ],
          "name": "stderr"
        }
      ]
    },
    {
      "cell_type": "code",
      "metadata": {
        "id": "LTEx_Y9uvRhq",
        "colab_type": "code",
        "outputId": "34646688-76d0-4803-9967-6135eb4834ec",
        "colab": {
          "base_uri": "https://localhost:8080/",
          "height": 299
        }
      },
      "source": [
        "df.head()"
      ],
      "execution_count": 7,
      "outputs": [
        {
          "output_type": "execute_result",
          "data": {
            "text/html": [
              "<div>\n",
              "<style scoped>\n",
              "    .dataframe tbody tr th:only-of-type {\n",
              "        vertical-align: middle;\n",
              "    }\n",
              "\n",
              "    .dataframe tbody tr th {\n",
              "        vertical-align: top;\n",
              "    }\n",
              "\n",
              "    .dataframe thead th {\n",
              "        text-align: right;\n",
              "    }\n",
              "</style>\n",
              "<table border=\"1\" class=\"dataframe\">\n",
              "  <thead>\n",
              "    <tr style=\"text-align: right;\">\n",
              "      <th></th>\n",
              "      <th>vendor_id</th>\n",
              "      <th>pickup_datetime</th>\n",
              "      <th>dropoff_datetime</th>\n",
              "      <th>passenger_count</th>\n",
              "      <th>trip_distance</th>\n",
              "      <th>pickup_longitude</th>\n",
              "      <th>pickup_latitude</th>\n",
              "      <th>rate_code</th>\n",
              "      <th>store_and_fwd_flag</th>\n",
              "      <th>dropoff_longitude</th>\n",
              "      <th>dropoff_latitude</th>\n",
              "      <th>payment_type</th>\n",
              "      <th>fare_amount</th>\n",
              "      <th>surcharge</th>\n",
              "      <th>mta_tax</th>\n",
              "      <th>tip_amount</th>\n",
              "      <th>tolls_amount</th>\n",
              "      <th>total_amount</th>\n",
              "    </tr>\n",
              "  </thead>\n",
              "  <tbody>\n",
              "    <tr>\n",
              "      <th>0</th>\n",
              "      <td>CMT</td>\n",
              "      <td>2014-01-09 20:45:25</td>\n",
              "      <td>2014-01-09 20:52:31</td>\n",
              "      <td>1</td>\n",
              "      <td>0.7</td>\n",
              "      <td>-73.994770</td>\n",
              "      <td>40.736828</td>\n",
              "      <td>1</td>\n",
              "      <td>N</td>\n",
              "      <td>-73.982227</td>\n",
              "      <td>40.731790</td>\n",
              "      <td>CRD</td>\n",
              "      <td>6.5</td>\n",
              "      <td>0.5</td>\n",
              "      <td>0.5</td>\n",
              "      <td>1.40</td>\n",
              "      <td>0.0</td>\n",
              "      <td>8.90</td>\n",
              "    </tr>\n",
              "    <tr>\n",
              "      <th>1</th>\n",
              "      <td>CMT</td>\n",
              "      <td>2014-01-09 20:46:12</td>\n",
              "      <td>2014-01-09 20:55:12</td>\n",
              "      <td>1</td>\n",
              "      <td>1.4</td>\n",
              "      <td>-73.982392</td>\n",
              "      <td>40.773382</td>\n",
              "      <td>1</td>\n",
              "      <td>N</td>\n",
              "      <td>-73.960449</td>\n",
              "      <td>40.763995</td>\n",
              "      <td>CRD</td>\n",
              "      <td>8.5</td>\n",
              "      <td>0.5</td>\n",
              "      <td>0.5</td>\n",
              "      <td>1.90</td>\n",
              "      <td>0.0</td>\n",
              "      <td>11.40</td>\n",
              "    </tr>\n",
              "    <tr>\n",
              "      <th>2</th>\n",
              "      <td>CMT</td>\n",
              "      <td>2014-01-09 20:44:47</td>\n",
              "      <td>2014-01-09 20:59:46</td>\n",
              "      <td>2</td>\n",
              "      <td>2.3</td>\n",
              "      <td>-73.988570</td>\n",
              "      <td>40.739406</td>\n",
              "      <td>1</td>\n",
              "      <td>N</td>\n",
              "      <td>-73.986626</td>\n",
              "      <td>40.765217</td>\n",
              "      <td>CRD</td>\n",
              "      <td>11.5</td>\n",
              "      <td>0.5</td>\n",
              "      <td>0.5</td>\n",
              "      <td>1.50</td>\n",
              "      <td>0.0</td>\n",
              "      <td>14.00</td>\n",
              "    </tr>\n",
              "    <tr>\n",
              "      <th>3</th>\n",
              "      <td>CMT</td>\n",
              "      <td>2014-01-09 20:44:57</td>\n",
              "      <td>2014-01-09 20:51:40</td>\n",
              "      <td>1</td>\n",
              "      <td>1.7</td>\n",
              "      <td>-73.960213</td>\n",
              "      <td>40.770464</td>\n",
              "      <td>1</td>\n",
              "      <td>N</td>\n",
              "      <td>-73.979863</td>\n",
              "      <td>40.777050</td>\n",
              "      <td>CRD</td>\n",
              "      <td>7.5</td>\n",
              "      <td>0.5</td>\n",
              "      <td>0.5</td>\n",
              "      <td>1.70</td>\n",
              "      <td>0.0</td>\n",
              "      <td>10.20</td>\n",
              "    </tr>\n",
              "    <tr>\n",
              "      <th>4</th>\n",
              "      <td>CMT</td>\n",
              "      <td>2014-01-09 20:47:09</td>\n",
              "      <td>2014-01-09 20:53:32</td>\n",
              "      <td>1</td>\n",
              "      <td>0.9</td>\n",
              "      <td>-73.995371</td>\n",
              "      <td>40.717248</td>\n",
              "      <td>1</td>\n",
              "      <td>N</td>\n",
              "      <td>-73.984367</td>\n",
              "      <td>40.720524</td>\n",
              "      <td>CRD</td>\n",
              "      <td>6.0</td>\n",
              "      <td>0.5</td>\n",
              "      <td>0.5</td>\n",
              "      <td>1.75</td>\n",
              "      <td>0.0</td>\n",
              "      <td>8.75</td>\n",
              "    </tr>\n",
              "  </tbody>\n",
              "</table>\n",
              "</div>"
            ],
            "text/plain": [
              "  vendor_id      pickup_datetime  ... tolls_amount  total_amount\n",
              "0       CMT  2014-01-09 20:45:25  ...          0.0          8.90\n",
              "1       CMT  2014-01-09 20:46:12  ...          0.0         11.40\n",
              "2       CMT  2014-01-09 20:44:47  ...          0.0         14.00\n",
              "3       CMT  2014-01-09 20:44:57  ...          0.0         10.20\n",
              "4       CMT  2014-01-09 20:47:09  ...          0.0          8.75\n",
              "\n",
              "[5 rows x 18 columns]"
            ]
          },
          "metadata": {
            "tags": []
          },
          "execution_count": 7
        }
      ]
    },
    {
      "cell_type": "code",
      "metadata": {
        "id": "MZ-Q_r5StU9-",
        "colab_type": "code",
        "outputId": "e447d275-6334-4a94-d3a8-60ab3e3b2209",
        "colab": {
          "base_uri": "https://localhost:8080/",
          "height": 336
        }
      },
      "source": [
        "df.dtypes"
      ],
      "execution_count": 28,
      "outputs": [
        {
          "output_type": "execute_result",
          "data": {
            "text/plain": [
              "vendor_id              object\n",
              "pickup_datetime        object\n",
              "dropoff_datetime       object\n",
              "passenger_count         int64\n",
              "trip_distance         float64\n",
              "pickup_longitude      float64\n",
              "pickup_latitude       float64\n",
              "rate_code               int64\n",
              "store_and_fwd_flag     object\n",
              "dropoff_longitude     float64\n",
              "dropoff_latitude      float64\n",
              "payment_type           object\n",
              "fare_amount           float64\n",
              "surcharge             float64\n",
              "mta_tax               float64\n",
              "tip_amount            float64\n",
              "tolls_amount          float64\n",
              "total_amount          float64\n",
              "dtype: object"
            ]
          },
          "metadata": {
            "tags": []
          },
          "execution_count": 28
        }
      ]
    },
    {
      "cell_type": "code",
      "metadata": {
        "id": "ZZGsx9AfvnuO",
        "colab_type": "code",
        "outputId": "c2f320e7-2e5b-41dd-f61d-6de0b3186672",
        "colab": {
          "base_uri": "https://localhost:8080/",
          "height": 304
        }
      },
      "source": [
        "df.describe()"
      ],
      "execution_count": 29,
      "outputs": [
        {
          "output_type": "execute_result",
          "data": {
            "text/html": [
              "<div>\n",
              "<style scoped>\n",
              "    .dataframe tbody tr th:only-of-type {\n",
              "        vertical-align: middle;\n",
              "    }\n",
              "\n",
              "    .dataframe tbody tr th {\n",
              "        vertical-align: top;\n",
              "    }\n",
              "\n",
              "    .dataframe thead th {\n",
              "        text-align: right;\n",
              "    }\n",
              "</style>\n",
              "<table border=\"1\" class=\"dataframe\">\n",
              "  <thead>\n",
              "    <tr style=\"text-align: right;\">\n",
              "      <th></th>\n",
              "      <th>passenger_count</th>\n",
              "      <th>trip_distance</th>\n",
              "      <th>pickup_longitude</th>\n",
              "      <th>pickup_latitude</th>\n",
              "      <th>rate_code</th>\n",
              "      <th>dropoff_longitude</th>\n",
              "      <th>dropoff_latitude</th>\n",
              "      <th>fare_amount</th>\n",
              "      <th>surcharge</th>\n",
              "      <th>mta_tax</th>\n",
              "      <th>tip_amount</th>\n",
              "      <th>tolls_amount</th>\n",
              "      <th>total_amount</th>\n",
              "    </tr>\n",
              "  </thead>\n",
              "  <tbody>\n",
              "    <tr>\n",
              "      <th>count</th>\n",
              "      <td>1.500000e+07</td>\n",
              "      <td>1.500000e+07</td>\n",
              "      <td>1.500000e+07</td>\n",
              "      <td>1.500000e+07</td>\n",
              "      <td>1.500000e+07</td>\n",
              "      <td>1.499985e+07</td>\n",
              "      <td>1.499985e+07</td>\n",
              "      <td>1.500000e+07</td>\n",
              "      <td>1.500000e+07</td>\n",
              "      <td>1.500000e+07</td>\n",
              "      <td>1.500000e+07</td>\n",
              "      <td>1.500000e+07</td>\n",
              "      <td>1.500000e+07</td>\n",
              "    </tr>\n",
              "    <tr>\n",
              "      <th>mean</th>\n",
              "      <td>1.701826e+00</td>\n",
              "      <td>2.792074e+00</td>\n",
              "      <td>-7.296749e+01</td>\n",
              "      <td>4.019355e+01</td>\n",
              "      <td>1.033778e+00</td>\n",
              "      <td>-7.290756e+01</td>\n",
              "      <td>4.016132e+01</td>\n",
              "      <td>1.201335e+01</td>\n",
              "      <td>3.145898e-01</td>\n",
              "      <td>4.982227e-01</td>\n",
              "      <td>1.455907e+00</td>\n",
              "      <td>2.404203e-01</td>\n",
              "      <td>1.452348e+01</td>\n",
              "    </tr>\n",
              "    <tr>\n",
              "      <th>std</th>\n",
              "      <td>1.390736e+00</td>\n",
              "      <td>3.326122e+00</td>\n",
              "      <td>8.586309e+00</td>\n",
              "      <td>4.762641e+00</td>\n",
              "      <td>7.177268e-01</td>\n",
              "      <td>8.843060e+00</td>\n",
              "      <td>4.897983e+00</td>\n",
              "      <td>1.006726e+01</td>\n",
              "      <td>3.633407e-01</td>\n",
              "      <td>2.975721e-02</td>\n",
              "      <td>2.244646e+00</td>\n",
              "      <td>1.191025e+00</td>\n",
              "      <td>1.216687e+01</td>\n",
              "    </tr>\n",
              "    <tr>\n",
              "      <th>min</th>\n",
              "      <td>0.000000e+00</td>\n",
              "      <td>0.000000e+00</td>\n",
              "      <td>-7.366000e+02</td>\n",
              "      <td>-1.800000e+02</td>\n",
              "      <td>0.000000e+00</td>\n",
              "      <td>-7.754167e+02</td>\n",
              "      <td>-1.800000e+02</td>\n",
              "      <td>2.500000e+00</td>\n",
              "      <td>0.000000e+00</td>\n",
              "      <td>0.000000e+00</td>\n",
              "      <td>0.000000e+00</td>\n",
              "      <td>0.000000e+00</td>\n",
              "      <td>2.500000e+00</td>\n",
              "    </tr>\n",
              "    <tr>\n",
              "      <th>25%</th>\n",
              "      <td>1.000000e+00</td>\n",
              "      <td>1.000000e+00</td>\n",
              "      <td>-7.399198e+01</td>\n",
              "      <td>4.073535e+01</td>\n",
              "      <td>1.000000e+00</td>\n",
              "      <td>-7.399135e+01</td>\n",
              "      <td>4.073420e+01</td>\n",
              "      <td>6.500000e+00</td>\n",
              "      <td>0.000000e+00</td>\n",
              "      <td>5.000000e-01</td>\n",
              "      <td>0.000000e+00</td>\n",
              "      <td>0.000000e+00</td>\n",
              "      <td>8.000000e+00</td>\n",
              "    </tr>\n",
              "    <tr>\n",
              "      <th>50%</th>\n",
              "      <td>1.000000e+00</td>\n",
              "      <td>1.700000e+00</td>\n",
              "      <td>-7.398183e+01</td>\n",
              "      <td>4.075298e+01</td>\n",
              "      <td>1.000000e+00</td>\n",
              "      <td>-7.398007e+01</td>\n",
              "      <td>4.075337e+01</td>\n",
              "      <td>9.000000e+00</td>\n",
              "      <td>0.000000e+00</td>\n",
              "      <td>5.000000e-01</td>\n",
              "      <td>1.000000e+00</td>\n",
              "      <td>0.000000e+00</td>\n",
              "      <td>1.100000e+01</td>\n",
              "    </tr>\n",
              "    <tr>\n",
              "      <th>75%</th>\n",
              "      <td>2.000000e+00</td>\n",
              "      <td>3.080000e+00</td>\n",
              "      <td>-7.396735e+01</td>\n",
              "      <td>4.076724e+01</td>\n",
              "      <td>1.000000e+00</td>\n",
              "      <td>-7.396351e+01</td>\n",
              "      <td>4.076839e+01</td>\n",
              "      <td>1.350000e+01</td>\n",
              "      <td>5.000000e-01</td>\n",
              "      <td>5.000000e-01</td>\n",
              "      <td>2.000000e+00</td>\n",
              "      <td>0.000000e+00</td>\n",
              "      <td>1.610000e+01</td>\n",
              "    </tr>\n",
              "    <tr>\n",
              "      <th>max</th>\n",
              "      <td>2.080000e+02</td>\n",
              "      <td>1.000000e+02</td>\n",
              "      <td>8.054390e+01</td>\n",
              "      <td>7.328431e+01</td>\n",
              "      <td>2.100000e+02</td>\n",
              "      <td>1.193360e+02</td>\n",
              "      <td>4.040833e+02</td>\n",
              "      <td>5.000000e+02</td>\n",
              "      <td>1.340000e+01</td>\n",
              "      <td>5.000000e-01</td>\n",
              "      <td>2.000000e+02</td>\n",
              "      <td>2.000000e+01</td>\n",
              "      <td>7.000000e+02</td>\n",
              "    </tr>\n",
              "  </tbody>\n",
              "</table>\n",
              "</div>"
            ],
            "text/plain": [
              "       passenger_count  trip_distance  ...  tolls_amount  total_amount\n",
              "count     1.500000e+07   1.500000e+07  ...  1.500000e+07  1.500000e+07\n",
              "mean      1.701826e+00   2.792074e+00  ...  2.404203e-01  1.452348e+01\n",
              "std       1.390736e+00   3.326122e+00  ...  1.191025e+00  1.216687e+01\n",
              "min       0.000000e+00   0.000000e+00  ...  0.000000e+00  2.500000e+00\n",
              "25%       1.000000e+00   1.000000e+00  ...  0.000000e+00  8.000000e+00\n",
              "50%       1.000000e+00   1.700000e+00  ...  0.000000e+00  1.100000e+01\n",
              "75%       2.000000e+00   3.080000e+00  ...  0.000000e+00  1.610000e+01\n",
              "max       2.080000e+02   1.000000e+02  ...  2.000000e+01  7.000000e+02\n",
              "\n",
              "[8 rows x 13 columns]"
            ]
          },
          "metadata": {
            "tags": []
          },
          "execution_count": 29
        }
      ]
    },
    {
      "cell_type": "code",
      "metadata": {
        "id": "aaac2yo9v3ad",
        "colab_type": "code",
        "outputId": "d316a74a-4957-4fdb-9c37-753441d75e83",
        "colab": {
          "base_uri": "https://localhost:8080/",
          "height": 336
        }
      },
      "source": [
        "df.isnull().sum()\n"
      ],
      "execution_count": 8,
      "outputs": [
        {
          "output_type": "execute_result",
          "data": {
            "text/plain": [
              "vendor_id                   0\n",
              "pickup_datetime             0\n",
              "dropoff_datetime            0\n",
              "passenger_count             0\n",
              "trip_distance               0\n",
              "pickup_longitude            0\n",
              "pickup_latitude             0\n",
              "rate_code                   0\n",
              "store_and_fwd_flag    7636077\n",
              "dropoff_longitude         145\n",
              "dropoff_latitude          145\n",
              "payment_type                0\n",
              "fare_amount                 0\n",
              "surcharge                   0\n",
              "mta_tax                     0\n",
              "tip_amount                  0\n",
              "tolls_amount                0\n",
              "total_amount                0\n",
              "dtype: int64"
            ]
          },
          "metadata": {
            "tags": []
          },
          "execution_count": 8
        }
      ]
    },
    {
      "cell_type": "code",
      "metadata": {
        "id": "9B5I0tGAvrX8",
        "colab_type": "code",
        "outputId": "40e9ff63-9619-421f-ed4d-db46d1b6f39f",
        "colab": {
          "base_uri": "https://localhost:8080/",
          "height": 34
        }
      },
      "source": [
        "df.passenger_count[df.dropoff_longitude.isnull()].unique()\n",
        "#drop off lat/long is null <=> passenger_count = 0 => that was not a trip => should be drop\n"
      ],
      "execution_count": 9,
      "outputs": [
        {
          "output_type": "execute_result",
          "data": {
            "text/plain": [
              "array([0])"
            ]
          },
          "metadata": {
            "tags": []
          },
          "execution_count": 9
        }
      ]
    },
    {
      "cell_type": "code",
      "metadata": {
        "id": "6pj8n-Ydvt0d",
        "colab_type": "code",
        "colab": {}
      },
      "source": [
        "df=df.dropna(subset=[\"dropoff_longitude\"])\n",
        "# dropna where drop off long/latitude are null "
      ],
      "execution_count": 0,
      "outputs": []
    },
    {
      "cell_type": "code",
      "metadata": {
        "id": "Q-ZJj7ikvzBz",
        "colab_type": "code",
        "outputId": "21642e3f-8e64-423d-f716-9b91331f48b0",
        "colab": {
          "base_uri": "https://localhost:8080/",
          "height": 34
        }
      },
      "source": [
        "df.shape\n"
      ],
      "execution_count": 33,
      "outputs": [
        {
          "output_type": "execute_result",
          "data": {
            "text/plain": [
              "(14999854, 18)"
            ]
          },
          "metadata": {
            "tags": []
          },
          "execution_count": 33
        }
      ]
    },
    {
      "cell_type": "code",
      "metadata": {
        "id": "4tCcmG2svZW2",
        "colab_type": "code",
        "colab": {}
      },
      "source": [
        "df['pickup_datetime']=pd.to_datetime(df.pickup_datetime)\n",
        "df['dropoff_datetime']=pd.to_datetime(df.dropoff_datetime)\n"
      ],
      "execution_count": 0,
      "outputs": []
    },
    {
      "cell_type": "code",
      "metadata": {
        "id": "OD1wC8LZvdtI",
        "colab_type": "code",
        "colab": {}
      },
      "source": [
        "df['trip_duration'] = df.dropoff_datetime - df.pickup_datetime\n",
        "df.trip_duration=df.trip_duration.astype('timedelta64[s]')"
      ],
      "execution_count": 0,
      "outputs": []
    },
    {
      "cell_type": "code",
      "metadata": {
        "id": "Ap-IZ1GbxL0Y",
        "colab_type": "code",
        "colab": {}
      },
      "source": [
        "df[\"pickup_dow\"] = df.pickup_datetime.dt.dayofweek\n",
        "df[\"pickup_weekday\"] = df.pickup_datetime.dt.weekday_name\n",
        "df[\"pickup_hour\"] = df.pickup_datetime.dt.hour\n",
        "df[\"pickup_month\"] = df.pickup_datetime.dt.month\n",
        "df[\"pickup_week\"] = df.pickup_datetime.dt.week\n"
      ],
      "execution_count": 0,
      "outputs": []
    },
    {
      "cell_type": "markdown",
      "metadata": {
        "id": "NGHmf_Mbw_KB",
        "colab_type": "text"
      },
      "source": [
        "**1 - OVERVIEW**\n",
        "The first part is about following Trends:\n",
        "\n",
        "1. Timerange of the dataset\n",
        "2. Total trips taken per month, growth rate (MOM)\n",
        "3. Total trips taken per week, growth rate (WOW)\n",
        "4. Distribution of trips in a week"
      ]
    },
    {
      "cell_type": "markdown",
      "metadata": {
        "id": "Gnr5t_e0nYxe",
        "colab_type": "text"
      },
      "source": [
        "1.1 Timerange"
      ]
    },
    {
      "cell_type": "code",
      "metadata": {
        "id": "9bfszCkdxGHv",
        "colab_type": "code",
        "outputId": "013e70d9-6195-4cb9-ca44-6e333b7e7ded",
        "colab": {
          "base_uri": "https://localhost:8080/",
          "height": 50
        }
      },
      "source": [
        "print(\"Dataset start date: \", min(df.pickup_datetime))\n",
        "print(\"Dataset end date: \", max(df.pickup_datetime))"
      ],
      "execution_count": 37,
      "outputs": [
        {
          "output_type": "stream",
          "text": [
            "Dataset start date:  2014-01-01 00:00:00\n",
            "Dataset end date:  2014-02-28 23:59:00\n"
          ],
          "name": "stdout"
        }
      ]
    },
    {
      "cell_type": "markdown",
      "metadata": {
        "id": "GTHDzpgZnh9b",
        "colab_type": "text"
      },
      "source": [
        "1.2 Number of trips and the growth rate MOM"
      ]
    },
    {
      "cell_type": "code",
      "metadata": {
        "id": "U3tq3oyZnmxl",
        "colab_type": "code",
        "colab": {}
      },
      "source": [
        "tab0=df.groupby(['pickup_month']).agg({'pickup_datetime':'count'}).rename(columns={\"pickup_datetime\":\"number_trips\"}).reset_index()"
      ],
      "execution_count": 0,
      "outputs": []
    },
    {
      "cell_type": "code",
      "metadata": {
        "id": "pnljuaAssCbv",
        "colab_type": "code",
        "colab": {}
      },
      "source": [
        "tab0[\"number_trips_lag\"]=tab0.number_trips.shift(1)\n",
        "tab0[\"growth_rate_MOM\"] = (tab0.number_trips - tab0.number_trips_lag)/tab0.number_trips_lag*100"
      ],
      "execution_count": 0,
      "outputs": []
    },
    {
      "cell_type": "code",
      "metadata": {
        "id": "Rc_UncdRtV0v",
        "colab_type": "code",
        "outputId": "9c4fd96f-560f-40cb-c9b8-9a7b9052986b",
        "colab": {
          "base_uri": "https://localhost:8080/",
          "height": 106
        }
      },
      "source": [
        "tab0"
      ],
      "execution_count": 16,
      "outputs": [
        {
          "output_type": "execute_result",
          "data": {
            "text/html": [
              "<div>\n",
              "<style scoped>\n",
              "    .dataframe tbody tr th:only-of-type {\n",
              "        vertical-align: middle;\n",
              "    }\n",
              "\n",
              "    .dataframe tbody tr th {\n",
              "        vertical-align: top;\n",
              "    }\n",
              "\n",
              "    .dataframe thead th {\n",
              "        text-align: right;\n",
              "    }\n",
              "</style>\n",
              "<table border=\"1\" class=\"dataframe\">\n",
              "  <thead>\n",
              "    <tr style=\"text-align: right;\">\n",
              "      <th></th>\n",
              "      <th>pickup_month</th>\n",
              "      <th>number_trips</th>\n",
              "      <th>number_trips_lag</th>\n",
              "      <th>growth_rate_MOM</th>\n",
              "    </tr>\n",
              "  </thead>\n",
              "  <tbody>\n",
              "    <tr>\n",
              "      <th>0</th>\n",
              "      <td>1</td>\n",
              "      <td>13782347</td>\n",
              "      <td>NaN</td>\n",
              "      <td>NaN</td>\n",
              "    </tr>\n",
              "    <tr>\n",
              "      <th>1</th>\n",
              "      <td>2</td>\n",
              "      <td>1217507</td>\n",
              "      <td>13782347.0</td>\n",
              "      <td>-91.166185</td>\n",
              "    </tr>\n",
              "  </tbody>\n",
              "</table>\n",
              "</div>"
            ],
            "text/plain": [
              "   pickup_month  number_trips  number_trips_lag  growth_rate_MOM\n",
              "0             1      13782347               NaN              NaN\n",
              "1             2       1217507        13782347.0       -91.166185"
            ]
          },
          "metadata": {
            "tags": []
          },
          "execution_count": 16
        }
      ]
    },
    {
      "cell_type": "code",
      "metadata": {
        "id": "yuoZj3V5oHu6",
        "colab_type": "code",
        "outputId": "3553e957-204a-4111-a01f-c2e9a40bc06e",
        "colab": {
          "base_uri": "https://localhost:8080/",
          "height": 513
        }
      },
      "source": [
        "plt.figure(figsize=(4,8))\n",
        "sns.set_color_codes(\"muted\")\n",
        "sns.barplot(x=\"pickup_month\",y=\"number_trips\", color=\"b\", data=tab0.reset_index())\n",
        "plt.title(\"Number of trips by month\")\n",
        "plt.xlabel(\"Month\")\n",
        "plt.ylabel=(\"Number of trips\")\n",
        "plt.show()"
      ],
      "execution_count": 18,
      "outputs": [
        {
          "output_type": "display_data",
          "data": {
            "image/png": "[encoded data removed]",
            "text/plain": [
              "<Figure size 288x576 with 1 Axes>"
            ]
          },
          "metadata": {
            "tags": []
          }
        }
      ]
    },
    {
      "cell_type": "markdown",
      "metadata": {
        "id": "w5VIYLOAu6WP",
        "colab_type": "text"
      },
      "source": [
        "1.3 Number of trips by week and growth rate (WOW)"
      ]
    },
    {
      "cell_type": "code",
      "metadata": {
        "id": "va-KSEyAx5VI",
        "colab_type": "code",
        "colab": {}
      },
      "source": [
        "df['OrderPeriod'] = df.pickup_datetime.apply(lambda x: (x-dt.timedelta(x.weekday())).strftime('%Y-%m-%d'))"
      ],
      "execution_count": 0,
      "outputs": []
    },
    {
      "cell_type": "code",
      "metadata": {
        "id": "tXDQQredyOq0",
        "colab_type": "code",
        "colab": {}
      },
      "source": [
        "tab1=df.groupby(['OrderPeriod']).agg({'pickup_datetime':'count','total_amount':'count'}).rename(columns = {\"pickup_datetime\":\"number_of_trips\"}).reset_index()"
      ],
      "execution_count": 0,
      "outputs": []
    },
    {
      "cell_type": "code",
      "metadata": {
        "id": "QCrhXMsz18u9",
        "colab_type": "code",
        "colab": {}
      },
      "source": [
        "tab1[\"number_of_trips_lag\"]=tab1.number_of_trips.shift(1)\n",
        "tab1[\"growth_rate_MOM\"] = (tab1.number_of_trips - tab1.number_of_trips_lag)/tab1.number_of_trips_lag*100"
      ],
      "execution_count": 0,
      "outputs": []
    },
    {
      "cell_type": "code",
      "metadata": {
        "id": "Npk-ttaNyRLC",
        "colab_type": "code",
        "outputId": "1401865b-0749-4ecb-f176-d4be325e6b55",
        "colab": {
          "base_uri": "https://localhost:8080/",
          "height": 443
        }
      },
      "source": [
        "f,ax=plt.subplots(figsize=(12,6))\n",
        "sns.set_color_codes(\"muted\")\n",
        "sns.barplot(x=\"OrderPeriod\",y=\"number_of_trips\",data=tab1,color=\"b\",label=\"Total Trips\")\n",
        "ax.set_xticklabels(labels=tab1.OrderPeriod,rotation='45')\n",
        "ax2=plt.twinx() \n",
        "sns.lineplot(x=\"OrderPeriod\",y=\"growth_rate_MOM\",data=tab1,color=\"r\",ax=ax2,label=\"Growth Rate\",marker='>')\n",
        "ax.legend(loc=\"upper left\",frameon=False)\n",
        "ax2.legend(loc=\"upper right\")\n",
        "ax.set(xlabel=\"Week\",ylabel=\"Number of trips\")\n",
        "ax2.set(ylabel=\"Growth Rate\")"
      ],
      "execution_count": 22,
      "outputs": [
        {
          "output_type": "execute_result",
          "data": {
            "text/plain": [
              "[Text(0, 0.5, 'Growth Rate')]"
            ]
          },
          "metadata": {
            "tags": []
          },
          "execution_count": 22
        },
        {
          "output_type": "display_data",
          "data": {
            "image/png": "[encoded data removed]",
            "text/plain": [
              "<Figure size 864x432 with 2 Axes>"
            ]
          },
          "metadata": {
            "tags": []
          }
        }
      ]
    },
    {
      "cell_type": "markdown",
      "metadata": {
        "id": "ofFCnt4My2H0",
        "colab_type": "text"
      },
      "source": [
        "1.4. Distribution of trips in a week, by day of week"
      ]
    },
    {
      "cell_type": "code",
      "metadata": {
        "id": "dyyN06QhxMxw",
        "colab_type": "code",
        "outputId": "b02fecbf-aa6e-4060-d161-329644e8ac6f",
        "colab": {
          "base_uri": "https://localhost:8080/",
          "height": 513
        }
      },
      "source": [
        "plt.figure(figsize=(12,8))\n",
        "sns.set_color_codes(\"muted\")\n",
        "sns.countplot(x=\"pickup_weekday\", color=\"b\", data=df)\n",
        "plt.title(\"Number of trips by day of week\")\n",
        "plt.xlabel(\"Day of Week\")\n",
        "plt.ylabel=(\"Number of trips\")\n",
        "plt.show()"
      ],
      "execution_count": 23,
      "outputs": [
        {
          "output_type": "display_data",
          "data": {
            "image/png": "[encoded data removed]",
            "text/plain": [
              "<Figure size 864x576 with 1 Axes>"
            ]
          },
          "metadata": {
            "tags": []
          }
        }
      ]
    },
    {
      "cell_type": "code",
      "metadata": {
        "id": "WYbuMXLtBQIG",
        "colab_type": "code",
        "outputId": "dff4d144-d16d-46f7-fc88-afd8cd7a963d",
        "colab": {
          "base_uri": "https://localhost:8080/",
          "height": 513
        }
      },
      "source": [
        "plt.figure(figsize=(12,8))\n",
        "sns.set_color_codes(\"muted\")\n",
        "sns.countplot(x=\"pickup_hour\", color=\"b\", data=df)\n",
        "plt.title(\"Number of trips by hour\")\n",
        "plt.xlabel(\"Hour\")\n",
        "plt.ylabel=(\"Number of trips\")\n",
        "plt.show()"
      ],
      "execution_count": 0,
      "outputs": [
        {
          "output_type": "display_data",
          "data": {
            "image/png": "[encoded data removed]",
            "text/plain": [
              "<Figure size 864x576 with 1 Axes>"
            ]
          },
          "metadata": {
            "tags": []
          }
        }
      ]
    },
    {
      "cell_type": "markdown",
      "metadata": {
        "id": "6k1xEcjS2P_v",
        "colab_type": "text"
      },
      "source": [
        "**2. Trip Metrics in details**\n",
        "1. Distribution of number passenger in a trip \n",
        "2. Trip Duration\n",
        "3. Distance (m)\n",
        "4. Rating\n",
        "5. Speed\n",
        "6. Tip amount\n"
      ]
    },
    {
      "cell_type": "markdown",
      "metadata": {
        "id": "Uo6DV7c24gvD",
        "colab_type": "text"
      },
      "source": [
        "2.1 Distribution of number passenger in a trip "
      ]
    },
    {
      "cell_type": "code",
      "metadata": {
        "id": "mpklRB4nvlzh",
        "colab_type": "code",
        "outputId": "c54bbb03-9e9a-4441-f20b-70adf4a3be82",
        "colab": {
          "base_uri": "https://localhost:8080/",
          "height": 497
        }
      },
      "source": [
        "##Check outlier\n",
        "plt.figure(figsize=(8,8))\n",
        "plt.scatter(range(len(df[\"passenger_count\"])), np.sort(df[\"passenger_count\"]))\n",
        "plt.xlabel(\"Index\")\n",
        "plt.ylabel=(\"Number of passenger\")\n",
        "plt.show()\n"
      ],
      "execution_count": 26,
      "outputs": [
        {
          "output_type": "display_data",
          "data": {
            "image/png": "[encoded data removed]",
            "text/plain": [
              "<Figure size 576x576 with 1 Axes>"
            ]
          },
          "metadata": {
            "tags": []
          }
        }
      ]
    },
    {
      "cell_type": "code",
      "metadata": {
        "id": "HBdADjr0v03f",
        "colab_type": "code",
        "colab": {}
      },
      "source": [
        "#remove outliers\n",
        "df = df[df[\"passenger_count\"] < 50]"
      ],
      "execution_count": 0,
      "outputs": []
    },
    {
      "cell_type": "code",
      "metadata": {
        "id": "I6u73bWx4b0t",
        "colab_type": "code",
        "colab": {}
      },
      "source": [
        "tab2 = df.groupby(['passenger_count']).agg({'pickup_datetime':'count'}).rename(columns = {\"pickup_datetime\":\"number_of_trips\"}).reset_index()"
      ],
      "execution_count": 0,
      "outputs": []
    },
    {
      "cell_type": "code",
      "metadata": {
        "id": "DaIk9C_d4xTb",
        "colab_type": "code",
        "outputId": "0de078f3-2f07-4d17-99fd-c193a550d7dc",
        "colab": {
          "base_uri": "https://localhost:8080/",
          "height": 343
        }
      },
      "source": [
        "tab2"
      ],
      "execution_count": 29,
      "outputs": [
        {
          "output_type": "execute_result",
          "data": {
            "text/html": [
              "<div>\n",
              "<style scoped>\n",
              "    .dataframe tbody tr th:only-of-type {\n",
              "        vertical-align: middle;\n",
              "    }\n",
              "\n",
              "    .dataframe tbody tr th {\n",
              "        vertical-align: top;\n",
              "    }\n",
              "\n",
              "    .dataframe thead th {\n",
              "        text-align: right;\n",
              "    }\n",
              "</style>\n",
              "<table border=\"1\" class=\"dataframe\">\n",
              "  <thead>\n",
              "    <tr style=\"text-align: right;\">\n",
              "      <th></th>\n",
              "      <th>passenger_count</th>\n",
              "      <th>number_of_trips</th>\n",
              "    </tr>\n",
              "  </thead>\n",
              "  <tbody>\n",
              "    <tr>\n",
              "      <th>0</th>\n",
              "      <td>0</td>\n",
              "      <td>124</td>\n",
              "    </tr>\n",
              "    <tr>\n",
              "      <th>1</th>\n",
              "      <td>1</td>\n",
              "      <td>10602705</td>\n",
              "    </tr>\n",
              "    <tr>\n",
              "      <th>2</th>\n",
              "      <td>2</td>\n",
              "      <td>2046972</td>\n",
              "    </tr>\n",
              "    <tr>\n",
              "      <th>3</th>\n",
              "      <td>3</td>\n",
              "      <td>611904</td>\n",
              "    </tr>\n",
              "    <tr>\n",
              "      <th>4</th>\n",
              "      <td>4</td>\n",
              "      <td>288702</td>\n",
              "    </tr>\n",
              "    <tr>\n",
              "      <th>5</th>\n",
              "      <td>5</td>\n",
              "      <td>860368</td>\n",
              "    </tr>\n",
              "    <tr>\n",
              "      <th>6</th>\n",
              "      <td>6</td>\n",
              "      <td>589030</td>\n",
              "    </tr>\n",
              "    <tr>\n",
              "      <th>7</th>\n",
              "      <td>7</td>\n",
              "      <td>7</td>\n",
              "    </tr>\n",
              "    <tr>\n",
              "      <th>8</th>\n",
              "      <td>8</td>\n",
              "      <td>5</td>\n",
              "    </tr>\n",
              "    <tr>\n",
              "      <th>9</th>\n",
              "      <td>9</td>\n",
              "      <td>18</td>\n",
              "    </tr>\n",
              "  </tbody>\n",
              "</table>\n",
              "</div>"
            ],
            "text/plain": [
              "   passenger_count  number_of_trips\n",
              "0                0              124\n",
              "1                1         10602705\n",
              "2                2          2046972\n",
              "3                3           611904\n",
              "4                4           288702\n",
              "5                5           860368\n",
              "6                6           589030\n",
              "7                7                7\n",
              "8                8                5\n",
              "9                9               18"
            ]
          },
          "metadata": {
            "tags": []
          },
          "execution_count": 29
        }
      ]
    },
    {
      "cell_type": "code",
      "metadata": {
        "id": "syboKy0WvFOd",
        "colab_type": "code",
        "outputId": "74c97900-9d6b-4d3a-b64b-20673b438010",
        "colab": {
          "base_uri": "https://localhost:8080/",
          "height": 726
        }
      },
      "source": [
        "plt.figure(figsize=(8,12))\n",
        "sns.set_color_codes(\"muted\")\n",
        "sns.barplot(x=\"passenger_count\", y=\"number_of_trips\",data=tab2)\n",
        "plt.show()\n"
      ],
      "execution_count": 0,
      "outputs": [
        {
          "output_type": "display_data",
          "data": {
            "image/png": "[encoded data removed]",
            "text/plain": [
              "<Figure size 576x864 with 1 Axes>"
            ]
          },
          "metadata": {
            "tags": []
          }
        }
      ]
    },
    {
      "cell_type": "markdown",
      "metadata": {
        "id": "o1YNEMrusI_C",
        "colab_type": "text"
      },
      "source": [
        "2.2 Trip duration"
      ]
    },
    {
      "cell_type": "code",
      "metadata": {
        "id": "aTabxhCrsIFh",
        "colab_type": "code",
        "outputId": "4dabed6f-db38-444a-961b-cad4c3c35bff",
        "colab": {
          "base_uri": "https://localhost:8080/",
          "height": 168
        }
      },
      "source": [
        "df[\"trip_duration\"].describe()\n"
      ],
      "execution_count": 7,
      "outputs": [
        {
          "output_type": "execute_result",
          "data": {
            "text/plain": [
              "count    1.499985e+07\n",
              "mean     7.392209e+02\n",
              "std      1.053395e+03\n",
              "min     -1.131618e+06\n",
              "25%      3.600000e+02\n",
              "50%      6.000000e+02\n",
              "75%      9.600000e+02\n",
              "max      1.171038e+06\n",
              "Name: trip_duration, dtype: float64"
            ]
          },
          "metadata": {
            "tags": []
          },
          "execution_count": 7
        }
      ]
    },
    {
      "cell_type": "code",
      "metadata": {
        "id": "PwioI0m6sMR7",
        "colab_type": "code",
        "outputId": "4a8c3f88-e652-43c3-85d7-c755ad882a1c",
        "colab": {
          "base_uri": "https://localhost:8080/",
          "height": 168
        }
      },
      "source": [
        "(df[\"dropoff_datetime\"] - df[\"pickup_datetime\"]).describe()\n",
        "#There are outliers in trip_duration. Trip_duration must be greater than 0 and greater than (a) day(s)\n",
        ")"
      ],
      "execution_count": 8,
      "outputs": [
        {
          "output_type": "execute_result",
          "data": {
            "text/plain": [
              "count                  14999854\n",
              "mean     0 days 00:12:19.220861\n",
              "std      0 days 00:17:33.394750\n",
              "min          -14 days +21:39:42\n",
              "25%             0 days 00:06:00\n",
              "50%             0 days 00:10:00\n",
              "75%             0 days 00:16:00\n",
              "max            13 days 13:17:18\n",
              "dtype: object"
            ]
          },
          "metadata": {
            "tags": []
          },
          "execution_count": 8
        }
      ]
    },
    {
      "cell_type": "code",
      "metadata": {
        "id": "rcMMYd8gsTPt",
        "colab_type": "code",
        "outputId": "f18d649b-4e88-4126-da88-439bea7c3cae",
        "colab": {
          "base_uri": "https://localhost:8080/",
          "height": 497
        }
      },
      "source": [
        "##Check outlier\n",
        "plt.figure(figsize=(8,8))\n",
        "plt.scatter(range(len(df[\"trip_duration\"])), np.sort(df[\"trip_duration\"]))\n",
        "plt.xlabel('index')\n",
        "plt.ylabel=('trip_duration in seconds')\n",
        "plt.show()\n"
      ],
      "execution_count": 9,
      "outputs": [
        {
          "output_type": "display_data",
          "data": {
            "image/png": "[encoded data removed]",
            "text/plain": [
              "<Figure size 576x576 with 1 Axes>"
            ]
          },
          "metadata": {
            "tags": []
          }
        }
      ]
    },
    {
      "cell_type": "code",
      "metadata": {
        "id": "JnHyVfYEsqTN",
        "colab_type": "code",
        "colab": {}
      },
      "source": [
        "#Remove outlier\n",
        "df = df[(df.trip_duration < 150000) & (df.trip_duration > 0)]"
      ],
      "execution_count": 0,
      "outputs": []
    },
    {
      "cell_type": "code",
      "metadata": {
        "id": "fnixxnW_6xxo",
        "colab_type": "code",
        "outputId": "7c1b8916-c0e3-4b70-ca6a-2cb7a811ec9e",
        "colab": {
          "base_uri": "https://localhost:8080/",
          "height": 406
        }
      },
      "source": [
        "#visualize trip_duration distribution\n",
        "f, ax=plt.subplots(1,2,figsize=(12,6))\n",
        "ax1=ax[0] \n",
        "sns.distplot(df.trip_duration,bins=10,ax=ax1)\n",
        "ax2=ax[1]\n",
        "sns.boxplot(df.trip_duration,ax=ax2)"
      ],
      "execution_count": 13,
      "outputs": [
        {
          "output_type": "execute_result",
          "data": {
            "text/plain": [
              "<matplotlib.axes._subplots.AxesSubplot at 0x7fb4ad72d780>"
            ]
          },
          "metadata": {
            "tags": []
          },
          "execution_count": 13
        },
        {
          "output_type": "display_data",
          "data": {
            "image/png": "[encoded data removed]",
            "text/plain": [
              "<Figure size 864x432 with 2 Axes>"
            ]
          },
          "metadata": {
            "tags": []
          }
        }
      ]
    },
    {
      "cell_type": "code",
      "metadata": {
        "id": "7EPvL21HGY0u",
        "colab_type": "code",
        "colab": {
          "base_uri": "https://localhost:8080/",
          "height": 168
        },
        "outputId": "630f3dec-50a0-440a-c1e3-a61216d1f910"
      },
      "source": [
        "(df[\"dropoff_datetime\"] - df[\"pickup_datetime\"]).describe()\n"
      ],
      "execution_count": 14,
      "outputs": [
        {
          "output_type": "execute_result",
          "data": {
            "text/plain": [
              "count                  14957341\n",
              "mean     0 days 00:12:22.042145\n",
              "std      0 days 00:09:37.917242\n",
              "min             0 days 00:00:01\n",
              "25%             0 days 00:06:00\n",
              "50%             0 days 00:10:00\n",
              "75%             0 days 00:16:00\n",
              "max             1 days 08:19:28\n",
              "dtype: object"
            ]
          },
          "metadata": {
            "tags": []
          },
          "execution_count": 14
        }
      ]
    },
    {
      "cell_type": "markdown",
      "metadata": {
        "id": "z9FcuaiutT5U",
        "colab_type": "text"
      },
      "source": [
        "2.3 Distance"
      ]
    },
    {
      "cell_type": "code",
      "metadata": {
        "id": "Xy-cxfoYtVcU",
        "colab_type": "code",
        "outputId": "cebc6bf6-9642-400f-e353-98a81029dfb6",
        "colab": {
          "base_uri": "https://localhost:8080/",
          "height": 168
        }
      },
      "source": [
        "df[\"trip_distance\"].describe()\n"
      ],
      "execution_count": 15,
      "outputs": [
        {
          "output_type": "execute_result",
          "data": {
            "text/plain": [
              "count    1.495734e+07\n",
              "mean     2.799215e+00\n",
              "std      3.326339e+00\n",
              "min      0.000000e+00\n",
              "25%      1.000000e+00\n",
              "50%      1.700000e+00\n",
              "75%      3.090000e+00\n",
              "max      1.000000e+02\n",
              "Name: trip_distance, dtype: float64"
            ]
          },
          "metadata": {
            "tags": []
          },
          "execution_count": 15
        }
      ]
    },
    {
      "cell_type": "code",
      "metadata": {
        "id": "0zbYu-9btriM",
        "colab_type": "code",
        "outputId": "0cced7c6-96a7-4e2a-e2df-c154a2c34d8a",
        "colab": {
          "base_uri": "https://localhost:8080/",
          "height": 497
        }
      },
      "source": [
        "##Check outlier\n",
        "plt.figure(figsize=(8,8))\n",
        "plt.scatter(range(len(df[\"trip_distance\"])), np.sort(df[\"trip_distance\"]))\n",
        "plt.xlabel('Index')\n",
        "plt.ylabel=('Trip_distance')\n",
        "plt.show()\n"
      ],
      "execution_count": 18,
      "outputs": [
        {
          "output_type": "display_data",
          "data": {
            "image/png": "[encoded data removed]",
            "text/plain": [
              "<Figure size 576x576 with 1 Axes>"
            ]
          },
          "metadata": {
            "tags": []
          }
        }
      ]
    },
    {
      "cell_type": "code",
      "metadata": {
        "id": "NR7E17IZ74Z9",
        "colab_type": "code",
        "outputId": "0179d96e-4a63-422f-d546-3e2ff2f1b81b",
        "colab": {
          "base_uri": "https://localhost:8080/",
          "height": 406
        }
      },
      "source": [
        "f, ax=plt.subplots(1,2,figsize=(12,6))\n",
        "ax1=ax[0] \n",
        "sns.distplot(df.trip_distance,bins=10,ax=ax1)\n",
        "ax2=ax[1]\n",
        "sns.boxplot(df.trip_distance,ax=ax2)"
      ],
      "execution_count": 17,
      "outputs": [
        {
          "output_type": "execute_result",
          "data": {
            "text/plain": [
              "<matplotlib.axes._subplots.AxesSubplot at 0x7fb4bca91f28>"
            ]
          },
          "metadata": {
            "tags": []
          },
          "execution_count": 17
        },
        {
          "output_type": "display_data",
          "data": {
            "image/png": "[encoded data removed]",
            "text/plain": [
              "<Figure size 864x432 with 2 Axes>"
            ]
          },
          "metadata": {
            "tags": []
          }
        }
      ]
    },
    {
      "cell_type": "markdown",
      "metadata": {
        "id": "KGhikauKw7k7",
        "colab_type": "text"
      },
      "source": [
        "2.4 Rating\n"
      ]
    },
    {
      "cell_type": "code",
      "metadata": {
        "id": "0K49fFNZw9dj",
        "colab_type": "code",
        "outputId": "de8635d7-9fd9-4f54-f005-cb7a3410d2fa",
        "colab": {
          "base_uri": "https://localhost:8080/",
          "height": 168
        }
      },
      "source": [
        "df[\"rate_code\"].describe()\n"
      ],
      "execution_count": 19,
      "outputs": [
        {
          "output_type": "execute_result",
          "data": {
            "text/plain": [
              "count    1.495734e+07\n",
              "mean     1.030226e+00\n",
              "std      7.094052e-01\n",
              "min      0.000000e+00\n",
              "25%      1.000000e+00\n",
              "50%      1.000000e+00\n",
              "75%      1.000000e+00\n",
              "max      2.100000e+02\n",
              "Name: rate_code, dtype: float64"
            ]
          },
          "metadata": {
            "tags": []
          },
          "execution_count": 19
        }
      ]
    },
    {
      "cell_type": "code",
      "metadata": {
        "id": "dzXwnPZBxAsU",
        "colab_type": "code",
        "colab": {}
      },
      "source": [
        "tab3 = df.groupby(['rate_code']).agg({'pickup_datetime':'count', 'tip_amount':'mean'}).rename(columns = {\"pickup_datetime\":\"number_of_trips\"}).reset_index()"
      ],
      "execution_count": 0,
      "outputs": []
    },
    {
      "cell_type": "code",
      "metadata": {
        "id": "Tnc5dKR1-EoA",
        "colab_type": "code",
        "colab": {
          "base_uri": "https://localhost:8080/",
          "height": 402
        },
        "outputId": "330c04f1-a962-4bde-91db-c5c6fb3e646b"
      },
      "source": [
        "tab3"
      ],
      "execution_count": 21,
      "outputs": [
        {
          "output_type": "execute_result",
          "data": {
            "text/html": [
              "<div>\n",
              "<style scoped>\n",
              "    .dataframe tbody tr th:only-of-type {\n",
              "        vertical-align: middle;\n",
              "    }\n",
              "\n",
              "    .dataframe tbody tr th {\n",
              "        vertical-align: top;\n",
              "    }\n",
              "\n",
              "    .dataframe thead th {\n",
              "        text-align: right;\n",
              "    }\n",
              "</style>\n",
              "<table border=\"1\" class=\"dataframe\">\n",
              "  <thead>\n",
              "    <tr style=\"text-align: right;\">\n",
              "      <th></th>\n",
              "      <th>rate_code</th>\n",
              "      <th>number_of_trips</th>\n",
              "      <th>tip_amount</th>\n",
              "    </tr>\n",
              "  </thead>\n",
              "  <tbody>\n",
              "    <tr>\n",
              "      <th>0</th>\n",
              "      <td>0</td>\n",
              "      <td>1170</td>\n",
              "      <td>0.126829</td>\n",
              "    </tr>\n",
              "    <tr>\n",
              "      <th>1</th>\n",
              "      <td>1</td>\n",
              "      <td>14656196</td>\n",
              "      <td>1.340197</td>\n",
              "    </tr>\n",
              "    <tr>\n",
              "      <th>2</th>\n",
              "      <td>2</td>\n",
              "      <td>243671</td>\n",
              "      <td>6.680492</td>\n",
              "    </tr>\n",
              "    <tr>\n",
              "      <th>3</th>\n",
              "      <td>3</td>\n",
              "      <td>21146</td>\n",
              "      <td>8.684663</td>\n",
              "    </tr>\n",
              "    <tr>\n",
              "      <th>4</th>\n",
              "      <td>4</td>\n",
              "      <td>4932</td>\n",
              "      <td>5.792634</td>\n",
              "    </tr>\n",
              "    <tr>\n",
              "      <th>5</th>\n",
              "      <td>5</td>\n",
              "      <td>29902</td>\n",
              "      <td>7.637035</td>\n",
              "    </tr>\n",
              "    <tr>\n",
              "      <th>6</th>\n",
              "      <td>6</td>\n",
              "      <td>144</td>\n",
              "      <td>0.746528</td>\n",
              "    </tr>\n",
              "    <tr>\n",
              "      <th>7</th>\n",
              "      <td>7</td>\n",
              "      <td>3</td>\n",
              "      <td>0.000000</td>\n",
              "    </tr>\n",
              "    <tr>\n",
              "      <th>8</th>\n",
              "      <td>8</td>\n",
              "      <td>21</td>\n",
              "      <td>0.000000</td>\n",
              "    </tr>\n",
              "    <tr>\n",
              "      <th>9</th>\n",
              "      <td>9</td>\n",
              "      <td>2</td>\n",
              "      <td>1.500000</td>\n",
              "    </tr>\n",
              "    <tr>\n",
              "      <th>10</th>\n",
              "      <td>28</td>\n",
              "      <td>1</td>\n",
              "      <td>1.900000</td>\n",
              "    </tr>\n",
              "    <tr>\n",
              "      <th>11</th>\n",
              "      <td>210</td>\n",
              "      <td>153</td>\n",
              "      <td>2.627712</td>\n",
              "    </tr>\n",
              "  </tbody>\n",
              "</table>\n",
              "</div>"
            ],
            "text/plain": [
              "    rate_code  number_of_trips  tip_amount\n",
              "0           0             1170    0.126829\n",
              "1           1         14656196    1.340197\n",
              "2           2           243671    6.680492\n",
              "3           3            21146    8.684663\n",
              "4           4             4932    5.792634\n",
              "5           5            29902    7.637035\n",
              "6           6              144    0.746528\n",
              "7           7                3    0.000000\n",
              "8           8               21    0.000000\n",
              "9           9                2    1.500000\n",
              "10         28                1    1.900000\n",
              "11        210              153    2.627712"
            ]
          },
          "metadata": {
            "tags": []
          },
          "execution_count": 21
        }
      ]
    },
    {
      "cell_type": "code",
      "metadata": {
        "id": "ZSpBt3be9zeL",
        "colab_type": "code",
        "colab": {}
      },
      "source": [
        "#remove outliers\n",
        "tab3 = tab3[tab3.rate_code < 28]"
      ],
      "execution_count": 0,
      "outputs": []
    },
    {
      "cell_type": "code",
      "metadata": {
        "id": "n4iV9DMZ8gjj",
        "colab_type": "code",
        "colab": {
          "base_uri": "https://localhost:8080/",
          "height": 118
        },
        "outputId": "7f71cf3b-c4e0-4d72-f457-d84ea5a6af5d"
      },
      "source": [
        "#log transformation\n",
        "tab3['log_number_of_trips'] = np.log(tab3.number_of_trips+1)\n"
      ],
      "execution_count": 23,
      "outputs": [
        {
          "output_type": "stream",
          "text": [
            "/usr/local/lib/python3.6/dist-packages/ipykernel_launcher.py:1: SettingWithCopyWarning: \n",
            "A value is trying to be set on a copy of a slice from a DataFrame.\n",
            "Try using .loc[row_indexer,col_indexer] = value instead\n",
            "\n",
            "See the caveats in the documentation: http://pandas.pydata.org/pandas-docs/stable/user_guide/indexing.html#returning-a-view-versus-a-copy\n",
            "  \"\"\"Entry point for launching an IPython kernel.\n"
          ],
          "name": "stderr"
        }
      ]
    },
    {
      "cell_type": "code",
      "metadata": {
        "id": "H4Lqm6tJxb13",
        "colab_type": "code",
        "outputId": "1fea4360-4fcb-4797-a89d-c82a5aea2889",
        "colab": {
          "base_uri": "https://localhost:8080/",
          "height": 405
        }
      },
      "source": [
        "f,ax=plt.subplots(figsize=(12,6))\n",
        "sns.set_color_codes(\"muted\")\n",
        "sns.barplot(x=\"rate_code\",y=\"log_number_of_trips\",data=tab3,color=\"b\",label=\"Total Trips\")\n",
        "ax2=plt.twinx() \n",
        "sns.lineplot(x=\"rate_code\",y=\"tip_amount\",data=tab3,color=\"r\",ax=ax2,label=\"Tip Amount\")\n",
        "ax.legend(loc=\"upper left\",frameon=False)\n",
        "ax2.legend(loc=\"upper right\")\n",
        "ax.set(xlabel=\"Rating\",ylabel=\"Number of trips\")\n",
        "ax2.set(ylabel=\"Avg Tip Amount\")"
      ],
      "execution_count": 24,
      "outputs": [
        {
          "output_type": "execute_result",
          "data": {
            "text/plain": [
              "[Text(0, 0.5, 'Avg Tip Amount')]"
            ]
          },
          "metadata": {
            "tags": []
          },
          "execution_count": 24
        },
        {
          "output_type": "display_data",
          "data": {
            "image/png": "[encoded data removed]",
            "text/plain": [
              "<Figure size 864x432 with 2 Axes>"
            ]
          },
          "metadata": {
            "tags": []
          }
        }
      ]
    },
    {
      "cell_type": "code",
      "metadata": {
        "id": "TMGgpZcl-O1C",
        "colab_type": "code",
        "outputId": "6aacd963-fc83-47ce-a3a4-f9c495dd5b82",
        "colab": {
          "base_uri": "https://localhost:8080/",
          "height": 416
        }
      },
      "source": [
        "# f,ax=plt.subplots(figsize=(12,6))\n",
        "# sns.set_color_codes(\"muted\")\n",
        "# sns.barplot(x=\"rate_code\",y=\"number_of_trips\",data=tab3,color=\"b\",label=\"Total Trips\")\n",
        "# ax2=plt.twinx() \n",
        "# sns.lineplot(x=\"rate_code\",y=\"tip_amount\",data=tab3,color=\"r\",ax=ax2,label=\"Tip Amount\")\n",
        "# ax.legend(loc=\"upper left\",frameon=False)\n",
        "# ax2.legend(loc=\"upper right\")\n",
        "# ax.set(xlabel=\"Rating\",ylabel=\"Number of trips\")\n",
        "# ax2.set(ylabel=\"Avg Tip Amount\")"
      ],
      "execution_count": 0,
      "outputs": [
        {
          "output_type": "execute_result",
          "data": {
            "text/plain": [
              "[Text(0, 0.5, 'Avg Tip Amount')]"
            ]
          },
          "metadata": {
            "tags": []
          },
          "execution_count": 58
        },
        {
          "output_type": "display_data",
          "data": {
            "image/png": "[encoded data removed]",
            "text/plain": [
              "<Figure size 864x432 with 2 Axes>"
            ]
          },
          "metadata": {
            "tags": []
          }
        }
      ]
    },
    {
      "cell_type": "markdown",
      "metadata": {
        "id": "M428lkehYYCU",
        "colab_type": "text"
      },
      "source": [
        "2.5. Speed"
      ]
    },
    {
      "cell_type": "code",
      "metadata": {
        "id": "v6lgZYXzYZzf",
        "colab_type": "code",
        "colab": {}
      },
      "source": [
        "df['speed'] = df.trip_distance/df.trip_duration*3600\n",
        "#mph "
      ],
      "execution_count": 0,
      "outputs": []
    },
    {
      "cell_type": "code",
      "metadata": {
        "id": "K0txiDWp_AxJ",
        "colab_type": "code",
        "outputId": "47eaccd5-d2fe-41ad-9e12-db0839383c5a",
        "colab": {
          "base_uri": "https://localhost:8080/",
          "height": 118
        }
      },
      "source": [
        "df.speed.head()"
      ],
      "execution_count": 0,
      "outputs": [
        {
          "output_type": "execute_result",
          "data": {
            "text/plain": [
              "0    0.005915\n",
              "1    0.009333\n",
              "2    0.009210\n",
              "3    0.015186\n",
              "4    0.008460\n",
              "Name: speed, dtype: float64"
            ]
          },
          "metadata": {
            "tags": []
          },
          "execution_count": 72
        }
      ]
    },
    {
      "cell_type": "code",
      "metadata": {
        "id": "-RVukvi6ydaq",
        "colab_type": "code",
        "outputId": "61498518-163b-48d4-9201-e6f8214c77f6",
        "colab": {
          "base_uri": "https://localhost:8080/",
          "height": 34
        }
      },
      "source": [
        "df['speed'].max()"
      ],
      "execution_count": 0,
      "outputs": [
        {
          "output_type": "execute_result",
          "data": {
            "text/plain": [
              "83880.0"
            ]
          },
          "metadata": {
            "tags": []
          },
          "execution_count": 67
        }
      ]
    },
    {
      "cell_type": "code",
      "metadata": {
        "id": "bdvRXkIFySF8",
        "colab_type": "code",
        "outputId": "7c09e757-2ce5-4e8e-e094-a52ac4fa1c3d",
        "colab": {
          "base_uri": "https://localhost:8080/",
          "height": 405
        }
      },
      "source": [
        "f, ax=plt.subplots(1,2,figsize=(12,6))\n",
        "ax1=ax[0] \n",
        "sns.distplot(df.speed,bins=10,ax=ax1)\n",
        "ax2=ax[1]\n",
        "sns.boxplot(df.speed,ax=ax2)"
      ],
      "execution_count": 0,
      "outputs": [
        {
          "output_type": "execute_result",
          "data": {
            "text/plain": [
              "<matplotlib.axes._subplots.AxesSubplot at 0x7fdabcf2d0b8>"
            ]
          },
          "metadata": {
            "tags": []
          },
          "execution_count": 66
        },
        {
          "output_type": "display_data",
          "data": {
            "image/png": "[encoded data removed]",
            "text/plain": [
              "<Figure size 864x432 with 2 Axes>"
            ]
          },
          "metadata": {
            "tags": []
          }
        }
      ]
    },
    {
      "cell_type": "markdown",
      "metadata": {
        "id": "Z_aC3k4Mzt8Q",
        "colab_type": "text"
      },
      "source": [
        "2.6 Tip amount"
      ]
    },
    {
      "cell_type": "code",
      "metadata": {
        "id": "sGZjVHBC1VpH",
        "colab_type": "code",
        "outputId": "04738ccc-76a9-4fae-c215-8ca685a34d74",
        "colab": {
          "base_uri": "https://localhost:8080/",
          "height": 168
        }
      },
      "source": [
        "df.tip_amount.describe()"
      ],
      "execution_count": 0,
      "outputs": [
        {
          "output_type": "execute_result",
          "data": {
            "text/plain": [
              "count    1.495734e+07\n",
              "mean     1.451546e+00\n",
              "std      2.212412e+00\n",
              "min      0.000000e+00\n",
              "25%      0.000000e+00\n",
              "50%      1.000000e+00\n",
              "75%      2.000000e+00\n",
              "max      2.000000e+02\n",
              "Name: tip_amount, dtype: float64"
            ]
          },
          "metadata": {
            "tags": []
          },
          "execution_count": 77
        }
      ]
    },
    {
      "cell_type": "code",
      "metadata": {
        "id": "33BPxeOt1Y20",
        "colab_type": "code",
        "outputId": "a259e428-7595-4b29-81a9-7b638e9be0b3",
        "colab": {
          "base_uri": "https://localhost:8080/",
          "height": 406
        }
      },
      "source": [
        "f, ax=plt.subplots(1,2,figsize=(20,6))\n",
        "ax1=ax[0] \n",
        "sns.distplot(df.tip_amount,bins=50,ax=ax1)\n",
        "ax2=ax[1]\n",
        "sns.boxplot(df.tip_amount,ax=ax2)"
      ],
      "execution_count": 26,
      "outputs": [
        {
          "output_type": "execute_result",
          "data": {
            "text/plain": [
              "<matplotlib.axes._subplots.AxesSubplot at 0x7fb4bdab9a90>"
            ]
          },
          "metadata": {
            "tags": []
          },
          "execution_count": 26
        },
        {
          "output_type": "display_data",
          "data": {
            "image/png": "[encoded data removed]",
            "text/plain": [
              "<Figure size 1440x432 with 2 Axes>"
            ]
          },
          "metadata": {
            "tags": []
          }
        }
      ]
    },
    {
      "cell_type": "code",
      "metadata": {
        "id": "Sq4ZXJlhz7r8",
        "colab_type": "code",
        "colab": {}
      },
      "source": [
        "df['tip_percentage'] = df.tip_amount/df.total_amount"
      ],
      "execution_count": 0,
      "outputs": []
    },
    {
      "cell_type": "code",
      "metadata": {
        "id": "1gZADm0k0PBW",
        "colab_type": "code",
        "outputId": "061b8e7f-0d4d-4099-8edb-daadd55be120",
        "colab": {
          "base_uri": "https://localhost:8080/",
          "height": 406
        }
      },
      "source": [
        "f, ax=plt.subplots(1,2,figsize=(12,6))\n",
        "ax1=ax[0] \n",
        "sns.distplot(df.tip_percentage,bins=10,ax=ax1)\n",
        "ax2=ax[1]\n",
        "sns.boxplot(df.tip_percentage,ax=ax2)"
      ],
      "execution_count": 0,
      "outputs": [
        {
          "output_type": "execute_result",
          "data": {
            "text/plain": [
              "<matplotlib.axes._subplots.AxesSubplot at 0x7fda896cfe48>"
            ]
          },
          "metadata": {
            "tags": []
          },
          "execution_count": 88
        },
        {
          "output_type": "display_data",
          "data": {
            "image/png": "[encoded data removed]",
            "text/plain": [
              "<Figure size 864x432 with 2 Axes>"
            ]
          },
          "metadata": {
            "tags": []
          }
        }
      ]
    }
  ]
}